{
 "cells": [
  {
   "cell_type": "code",
   "execution_count": 19,
   "id": "ace94093-8708-477e-8b3d-9be0eecb1b16",
   "metadata": {},
   "outputs": [],
   "source": [
    "import numpy as np\n",
    "import matplotlib.pyplot as plt\n",
    "import math as m\n",
    "from numpy import sqrt, sin, cos, tan, pi, inf, exp\n",
    "import scipy as sci\n",
    "import scipy.integrate as sci_int"
   ]
  },
  {
   "cell_type": "code",
   "execution_count": 20,
   "id": "71f13a5b-c32e-47e6-807a-17c41edfd699",
   "metadata": {},
   "outputs": [],
   "source": [
    "def cot(theta):\n",
    "    return 1 / tan(theta)\n",
    "def csc(theta):\n",
    "    return 1 / sin(theta)\n",
    "def sec(theta):\n",
    "    return 1 / cos(theta)"
   ]
  },
  {
   "cell_type": "code",
   "execution_count": 36,
   "id": "5857a20f-32fa-47da-8daa-a54b2dadbf0e",
   "metadata": {},
   "outputs": [],
   "source": [
    "class pinhole:\n",
    "    def __init__(self, x_init=None, y_init=None, z_init=None):\n",
    "        self.x_init = x_init\n",
    "        self.y_init = y_init\n",
    "        self.z_init = z_init\n",
    "    def assign_vals(self, d,h,alpha,theta_init,rho,mu,beta,phi_init):\n",
    "        self.d = d\n",
    "        self.h = h\n",
    "        self.alpha = alpha\n",
    "        self.theta_init = theta_init\n",
    "        self.rho = rho\n",
    "        self.mu = mu\n",
    "        self.beta = beta\n",
    "        self.phi = phi_init\n",
    "\n",
    "    def intersect(self):\n",
    "        self.x = self.rho * cos(self.beta)\n",
    "        self.y = self.rho * sin(self.beta)\n",
    "        self.z = 0\n",
    "    def calc_l(self,z,theta,phi):\n",
    "        self.l_x = (self.rho * cos(self.beta)) + (z * cot(theta) * cos(phi))\n",
    "        self.l_y = (self.rho * cos(self.beta)) + (z * cot(theta) * sin(phi))\n",
    "        self.l_z = z\n",
    "        self.l = [self.l_x,self.l_y,self.l_z]\n",
    "        return self.l\n",
    "    def calc_delta_l(self):\n",
    "        num_one = csc(self.theta_init) * (1 - ((self.rho/self.h)*sin(self.theta_init)*cos(self.theta_init)*cos(self.beta)))\n",
    "        den = (tan(self.alpha/2)**2 - cot(self.theta_init)**2)\n",
    "        num_two = ((2 * cot(self.theta_init)  * cos(self.beta))/(den)) * (self.rho / self.h)\n",
    "        coef_one = (num_one - num_two)/den\n",
    "        coef_two = (-1 * self.d * tan(self.alpha/2)) + ((2 * self.rho) * (tan(self.alpha/2)**2 - (cot(self.theta_init)**2 * sin(self.beta)**2))**0.5)\n",
    "        self.delta_l = coef_one * coef_two\n",
    "        return self.delta_l\n",
    "    def s_geom(self):\n",
    "        return (self.d**2 * (sin(self.theta_init))**3) / (16 * self.h**2)\n",
    "    def s_pen(self):\n",
    "        _ = self.calc_delta_l()\n",
    "        coef_one = (sin(self.theta_init))**3 / (4 * pi * self.h**2)\n",
    "        coef_two = self.rho * exp(-1 * self.mu * self.delta_l)\n",
    "        int_one, err = sci_int.quad(lambda x: 1, 0, 2 * pi)\n",
    "        int_two, err = sci_int.quad(lambda x: 1, self.d/2, inf)\n",
    "        return coef_one * int_one * int_two * coef_two\n",
    "    def s_tot(self):\n",
    "        self.s_g = self.s_geom()\n",
    "        self.s_p = self.s_pen()\n",
    "        self.s_t = self.s_g + self.s_p\n",
    "        return self.s_g + self.s_p"
   ]
  },
  {
   "cell_type": "code",
   "execution_count": 40,
   "id": "1980b863-6c65-45d4-84d6-340a115318e7",
   "metadata": {},
   "outputs": [
    {
     "name": "stderr",
     "output_type": "stream",
     "text": [
      "C:\\Users\\kwaku\\AppData\\Local\\Temp\\ipykernel_32112\\2663938462.py:31: RuntimeWarning: invalid value encountered in scalar power\n",
      "  coef_two = (-1 * self.d * tan(self.alpha/2)) + ((2 * self.rho) * (tan(self.alpha/2)**2 - (cot(self.theta_init)**2 * sin(self.beta)**2))**0.5)\n",
      "C:\\Users\\kwaku\\AppData\\Local\\Temp\\ipykernel_32112\\2663938462.py:41: IntegrationWarning: The integral is probably divergent, or slowly convergent.\n",
      "  int_two, err = sci_int.quad(lambda x: 1, self.d/2, inf)\n"
     ]
    }
   ],
   "source": [
    "ph = pinhole()\n",
    "ph.assign_vals(0.5,2,6,56,5,3,45,phi_init=None)\n",
    "check = ph.s_tot()"
   ]
  },
  {
   "cell_type": "code",
   "execution_count": 38,
   "id": "8844a2da-f0e0-446c-9f53-a20ee64dc3ac",
   "metadata": {},
   "outputs": [
    {
     "name": "stdout",
     "output_type": "stream",
     "text": [
      "nan\n"
     ]
    }
   ],
   "source": [
    "print(check)"
   ]
  },
  {
   "cell_type": "code",
   "execution_count": null,
   "id": "0f8d1418-801b-411e-8b79-fae2bf20fe61",
   "metadata": {},
   "outputs": [],
   "source": []
  }
 ],
 "metadata": {
  "kernelspec": {
   "display_name": "Python 3 (ipykernel)",
   "language": "python",
   "name": "python3"
  },
  "language_info": {
   "codemirror_mode": {
    "name": "ipython",
    "version": 3
   },
   "file_extension": ".py",
   "mimetype": "text/x-python",
   "name": "python",
   "nbconvert_exporter": "python",
   "pygments_lexer": "ipython3",
   "version": "3.13.2"
  }
 },
 "nbformat": 4,
 "nbformat_minor": 5
}
