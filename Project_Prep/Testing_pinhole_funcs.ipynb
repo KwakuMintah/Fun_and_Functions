{
 "cells": [
  {
   "cell_type": "code",
   "execution_count": 8,
   "id": "ace94093-8708-477e-8b3d-9be0eecb1b16",
   "metadata": {},
   "outputs": [],
   "source": [
    "import numpy as np\n",
    "import matplotlib.pyplot as plt\n",
    "import math as m\n",
    "from numpy import sqrt, sin, cos, pi, inf, exp\n",
    "import scipy as sci\n",
    "import scipy.integrate as sci_int"
   ]
  },
  {
   "cell_type": "code",
   "execution_count": 39,
   "id": "5857a20f-32fa-47da-8daa-a54b2dadbf0e",
   "metadata": {},
   "outputs": [],
   "source": [
    "class pinhole:\n",
    "    def __init__(self, size):\n",
    "        self.x = np.zeros(size,)\n",
    "        self.y = np.zeros(size,)\n",
    "        self.z = np.zeros(size,)\n",
    "    def assign_vals(self, d,h,l,theta,rho,mu,beta):\n",
    "        self.d = d\n",
    "        self.h = h\n",
    "        self.l = l\n",
    "        self.theta = theta\n",
    "        self.rho = rho\n",
    "        self.mu = mu\n",
    "        self.beta = beta\n",
    "    def s_geom(self):\n",
    "        return (self.d**2 * (sin(self.theta))**3) / (16 * self.h**2)\n",
    "    def s_pen(self):\n",
    "        coef_one = (sin(self.theta))**3 / (4 * pi * self.h**2)\n",
    "        coef_two = self.rho * exp(-1 * self.mu * self.l)\n",
    "        int_one = sci_int.quad(lambda x: 1, 0, 2 * pi)\n",
    "        int_two = sci_int.quad(lambda x: 1, self.d/2, inf)\n",
    "        return coef_one * int_one * int_two * coef_two\n",
    "    def s_tot(self):\n",
    "        self.s_g = self.s_geom()\n",
    "        self.s_p = self.s_pen()\n",
    "        self.s_t = self.s_g + self.s_p\n",
    "        return s_g + s_p"
   ]
  },
  {
   "cell_type": "code",
   "execution_count": 40,
   "id": "1980b863-6c65-45d4-84d6-340a115318e7",
   "metadata": {},
   "outputs": [
    {
     "name": "stderr",
     "output_type": "stream",
     "text": [
      "C:\\Users\\kwaku\\AppData\\Local\\Temp\\ipykernel_23864\\2395191269.py:20: IntegrationWarning: The integral is probably divergent, or slowly convergent.\n",
      "  int_two = sci_int.quad(lambda x: 1, self.d/2, inf)\n"
     ]
    },
    {
     "ename": "TypeError",
     "evalue": "can't multiply sequence by non-int of type 'numpy.float64'",
     "output_type": "error",
     "traceback": [
      "\u001b[31m---------------------------------------------------------------------------\u001b[39m",
      "\u001b[31mTypeError\u001b[39m                                 Traceback (most recent call last)",
      "\u001b[36mCell\u001b[39m\u001b[36m \u001b[39m\u001b[32mIn[40]\u001b[39m\u001b[32m, line 3\u001b[39m\n\u001b[32m      1\u001b[39m ph = pinhole(\u001b[32m20\u001b[39m)\n\u001b[32m      2\u001b[39m ph.assign_vals(\u001b[32m10\u001b[39m,\u001b[32m2\u001b[39m,\u001b[32m6\u001b[39m,\u001b[32m5\u001b[39m,\u001b[32m56\u001b[39m,\u001b[32m3\u001b[39m,\u001b[32m45\u001b[39m)\n\u001b[32m----> \u001b[39m\u001b[32m3\u001b[39m check = \u001b[43mph\u001b[49m\u001b[43m.\u001b[49m\u001b[43ms_tot\u001b[49m\u001b[43m(\u001b[49m\u001b[43m)\u001b[49m\n",
      "\u001b[36mCell\u001b[39m\u001b[36m \u001b[39m\u001b[32mIn[39]\u001b[39m\u001b[32m, line 24\u001b[39m, in \u001b[36mpinhole.s_tot\u001b[39m\u001b[34m(self)\u001b[39m\n\u001b[32m     22\u001b[39m \u001b[38;5;28;01mdef\u001b[39;00m\u001b[38;5;250m \u001b[39m\u001b[34ms_tot\u001b[39m(\u001b[38;5;28mself\u001b[39m):\n\u001b[32m     23\u001b[39m     \u001b[38;5;28mself\u001b[39m.s_g = \u001b[38;5;28mself\u001b[39m.s_geom()\n\u001b[32m---> \u001b[39m\u001b[32m24\u001b[39m     \u001b[38;5;28mself\u001b[39m.s_p = \u001b[38;5;28;43mself\u001b[39;49m\u001b[43m.\u001b[49m\u001b[43ms_pen\u001b[49m\u001b[43m(\u001b[49m\u001b[43m)\u001b[49m\n\u001b[32m     25\u001b[39m     \u001b[38;5;28mself\u001b[39m.s_t = \u001b[38;5;28mself\u001b[39m.s_g + \u001b[38;5;28mself\u001b[39m.s_p\n\u001b[32m     26\u001b[39m     \u001b[38;5;28;01mreturn\u001b[39;00m s_g + s_p\n",
      "\u001b[36mCell\u001b[39m\u001b[36m \u001b[39m\u001b[32mIn[39]\u001b[39m\u001b[32m, line 21\u001b[39m, in \u001b[36mpinhole.s_pen\u001b[39m\u001b[34m(self)\u001b[39m\n\u001b[32m     19\u001b[39m int_one = sci_int.quad(\u001b[38;5;28;01mlambda\u001b[39;00m x: \u001b[32m1\u001b[39m, \u001b[32m0\u001b[39m, \u001b[32m2\u001b[39m * pi)\n\u001b[32m     20\u001b[39m int_two = sci_int.quad(\u001b[38;5;28;01mlambda\u001b[39;00m x: \u001b[32m1\u001b[39m, \u001b[38;5;28mself\u001b[39m.d/\u001b[32m2\u001b[39m, inf)\n\u001b[32m---> \u001b[39m\u001b[32m21\u001b[39m \u001b[38;5;28;01mreturn\u001b[39;00m \u001b[43mcoef_one\u001b[49m\u001b[43m \u001b[49m\u001b[43m*\u001b[49m\u001b[43m \u001b[49m\u001b[43mint_one\u001b[49m * int_two * coef_two\n",
      "\u001b[31mTypeError\u001b[39m: can't multiply sequence by non-int of type 'numpy.float64'"
     ]
    }
   ],
   "source": [
    "ph = pinhole(20)\n",
    "ph.assign_vals(10,2,6,5,56,3,45)\n",
    "check = ph.s_tot()"
   ]
  },
  {
   "cell_type": "code",
   "execution_count": null,
   "id": "8844a2da-f0e0-446c-9f53-a20ee64dc3ac",
   "metadata": {},
   "outputs": [],
   "source": []
  }
 ],
 "metadata": {
  "kernelspec": {
   "display_name": "Python 3 (ipykernel)",
   "language": "python",
   "name": "python3"
  },
  "language_info": {
   "codemirror_mode": {
    "name": "ipython",
    "version": 3
   },
   "file_extension": ".py",
   "mimetype": "text/x-python",
   "name": "python",
   "nbconvert_exporter": "python",
   "pygments_lexer": "ipython3",
   "version": "3.13.2"
  }
 },
 "nbformat": 4,
 "nbformat_minor": 5
}
