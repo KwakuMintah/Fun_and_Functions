{
 "cells": [
  {
   "cell_type": "code",
   "execution_count": 1,
   "id": "ace94093-8708-477e-8b3d-9be0eecb1b16",
   "metadata": {},
   "outputs": [],
   "source": [
    "import numpy as np\n",
    "import matplotlib.pyplot as plt\n",
    "import math as m\n",
    "from numpy import sqrt, sin, cos, pi, inf, exp\n",
    "import scipy as sci\n",
    "import scipy.integrate as sci_int"
   ]
  },
  {
   "cell_type": "code",
   "execution_count": 12,
   "id": "5857a20f-32fa-47da-8daa-a54b2dadbf0e",
   "metadata": {},
   "outputs": [],
   "source": [
    "class pinhole:\n",
    "    def __init__(self, size):\n",
    "        self.x = np.zeros(size,)\n",
    "        self.y = np.zeros(size,)\n",
    "        self.z = np.zeros(size,)\n",
    "    def assign_vals(self, d,h,l,theta,rho,mu,beta):\n",
    "        self.d = d\n",
    "        self.h = h\n",
    "        self.l = l\n",
    "        self.theta = theta\n",
    "        self.rho = rho\n",
    "        self.mu = mu\n",
    "        self.beta = beta\n",
    "    def s_geom(self):\n",
    "        return (self.d**2 * (sin(self.theta))**3) / (16 * self.h**2)\n",
    "    def s_pen(self):\n",
    "        coef_one = (sin(self.theta))**3 / (4 * pi * self.h**2)\n",
    "        coef_two = self.rho * exp(-1 * self.mu * self.l)\n",
    "        int_one, err = sci_int.quad(lambda x: 1, 0, 2 * pi)\n",
    "        int_two, err = sci_int.quad(lambda x: 1, self.d/2, inf)\n",
    "        return coef_one * int_one * int_two * coef_two\n",
    "    def s_tot(self):\n",
    "        self.s_g = self.s_geom()\n",
    "        self.s_p = self.s_pen()\n",
    "        self.s_t = self.s_g + self.s_p\n",
    "        return self.s_g + self.s_p"
   ]
  },
  {
   "cell_type": "code",
   "execution_count": 13,
   "id": "1980b863-6c65-45d4-84d6-340a115318e7",
   "metadata": {},
   "outputs": [
    {
     "name": "stderr",
     "output_type": "stream",
     "text": [
      "C:\\Users\\kwaku\\AppData\\Local\\Temp\\ipykernel_32112\\1082195384.py:20: IntegrationWarning: The integral is probably divergent, or slowly convergent.\n",
      "  int_two, err = sci_int.quad(lambda x: 1, self.d/2, inf)\n"
     ]
    }
   ],
   "source": [
    "ph = pinhole(20)\n",
    "ph.assign_vals(10,2,6,5,56,3,45)\n",
    "check = ph.s_tot()"
   ]
  },
  {
   "cell_type": "code",
   "execution_count": 14,
   "id": "8844a2da-f0e0-446c-9f53-a20ee64dc3ac",
   "metadata": {},
   "outputs": [
    {
     "name": "stdout",
     "output_type": "stream",
     "text": [
      "-1.3777579779273799\n"
     ]
    }
   ],
   "source": [
    "print(check)"
   ]
  },
  {
   "cell_type": "code",
   "execution_count": null,
   "id": "86fa22ba-2f2a-413a-bfa6-537f0a1cb4e7",
   "metadata": {},
   "outputs": [],
   "source": []
  }
 ],
 "metadata": {
  "kernelspec": {
   "display_name": "Python 3 (ipykernel)",
   "language": "python",
   "name": "python3"
  },
  "language_info": {
   "codemirror_mode": {
    "name": "ipython",
    "version": 3
   },
   "file_extension": ".py",
   "mimetype": "text/x-python",
   "name": "python",
   "nbconvert_exporter": "python",
   "pygments_lexer": "ipython3",
   "version": "3.13.2"
  }
 },
 "nbformat": 4,
 "nbformat_minor": 5
}
